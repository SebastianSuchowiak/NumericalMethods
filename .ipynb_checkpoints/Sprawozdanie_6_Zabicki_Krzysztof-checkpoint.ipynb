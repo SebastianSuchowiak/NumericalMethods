{
 "cells": [
  {
   "cell_type": "markdown",
   "metadata": {},
   "source": [
    "# Sprawozdanie z laboratorium metod numerycznych numer 6 - Całkowanie\n",
    "## Krzysztof Żabicki\n",
    "## 297314\n",
    "## Grupa 2b"
   ]
  },
  {
   "cell_type": "markdown",
   "metadata": {},
   "source": [
    "Zadanie 1:"
   ]
  },
  {
   "cell_type": "code",
   "execution_count": 1,
   "metadata": {
    "scrolled": true
   },
   "outputs": [
    {
     "name": "stdout",
     "output_type": "stream",
     "text": [
      "Metoda analityczna: 0.43233235838169365\n",
      "Metoda prostokątów: 0.43161264421182116\n",
      "Metoda trapezów - wzór prosty: 0.5676676416183064\n",
      "Metoda Simpsona - wzór prosty: 0.4344755079870637\n",
      "Metoda trapezów - wzór złożony: 0.4337725064184668\n",
      "Metoda Simpsona - wzór złożony: 0.43233618311275407\n",
      "Metoda Romberga: 0.43233235838943557\n",
      "Metoda quad: 0.4323323583816936\n"
     ]
    }
   ],
   "source": [
    "from scipy import integrate\n",
    "import numpy as np\n",
    "from math import exp\n",
    "import math\n",
    "from scipy import stats\n",
    "\n",
    "fun = lambda x: exp(-2 * x) #Funkcja całkowana\n",
    "fun1 = lambda x: -exp(-2 * x) / 2 #Funkcja pierwotna\n",
    "\n",
    "def metoda_prostokatow(f, a, b, n):\n",
    "    dx = (b - a) / n\n",
    "    integral = 0\n",
    "    x1 = a\n",
    "    x2 = a + dx\n",
    "    for i in range(1, n+1):\n",
    "        integral += f(i * dx - dx/2) * dx\n",
    "    return integral\n",
    "\n",
    "def metoda_trapezow_prosta(f, a, b):\n",
    "    dx = (b - a) / 2\n",
    "    return dx * (f(a) + f(b))\n",
    "\n",
    "def metoda_simpsona_prosta(f, a, b):\n",
    "    return (b - a) / 6 * (f(a) + 4*f((a+b)/2) + f(b))\n",
    "\n",
    "def metoda_trapezow_zlozona(f, a, b, n):\n",
    "    dx = (b - a) / n\n",
    "    integral = 0\n",
    "    base_a = f(a)\n",
    "    for i in range (1, n+1):\n",
    "        base_b = f(a + dx * i)\n",
    "        integral += (base_a + base_b) * dx / 2\n",
    "        base_a = base_b\n",
    "    return integral\n",
    "\n",
    "def metoda_simpsona_zlozona(f, a, b, n):\n",
    "    dx = (b - a) / n\n",
    "    sum1 = 0\n",
    "    sum2 = 0\n",
    "    integral = 0\n",
    "    for i in range(1, int(n / 2 + 1)):\n",
    "        sum1 += f(a + (2 * i - 1) * dx)\n",
    "    sum1 *= 4\n",
    "    for i in range(1, int(n/2)):\n",
    "        sum2 += f(a + 2 * i * dx)\n",
    "    sum2 *= 2\n",
    "    integral = (b - a) / (3 * n) * (f(a) + f(b) + sum1 + sum2)\n",
    "    return integral\n",
    "\n",
    "#1 Metoda analityczna\n",
    "print('Metoda analityczna:',fun1(1) - fun1(0))\n",
    "#2 Metoda prostokątów\n",
    "print('Metoda prostokątów:',metoda_prostokatow(fun,0,1,10))\n",
    "#3 Prosty wzór trapezów\n",
    "print('Metoda trapezów - wzór prosty:',metoda_trapezow_prosta(fun,0,1))\n",
    "#4 Prosty wzór Simpsona\n",
    "print('Metoda Simpsona - wzór prosty:',metoda_simpsona_prosta(fun,0,1))\n",
    "#5 Złożony wzór trapezów\n",
    "print('Metoda trapezów - wzór złożony:',metoda_trapezow_zlozona(fun,0,1,10))\n",
    "#6 Złożony wzór Simpsona\n",
    "print('Metoda Simpsona - wzór złożony:',metoda_simpsona_zlozona(fun,0,1,10))\n",
    "#7 Metoda Romberga\n",
    "print('Metoda Romberga:',integrate.romberg(fun,0,1,tol=1e-05))\n",
    "#8 Metoda quad\n",
    "result, error = integrate.quad(fun,0,1)\n",
    "print('Metoda quad:',result)"
   ]
  },
  {
   "cell_type": "markdown",
   "metadata": {},
   "source": [
    "Najdokładniejszą metodą jest metoda quad z pakietu scipy."
   ]
  },
  {
   "cell_type": "markdown",
   "metadata": {},
   "source": [
    "Zadanie 2:"
   ]
  },
  {
   "cell_type": "code",
   "execution_count": 2,
   "metadata": {},
   "outputs": [
    {
     "name": "stdout",
     "output_type": "stream",
     "text": [
      "Rozwiazanie otrzymane przy pomocy metody trapezow: 1.6448907131697923\n",
      "Rozwiazanie otrzymane przy pomocy metody Simpsona: 1.64485362635544\n",
      "Wartosc referencyjna: 1.6448536269514722\n"
     ]
    }
   ],
   "source": [
    "from scipy.stats import norm\n",
    "from scipy import optimize\n",
    "f = lambda t: 1/ math.sqrt(2*np.pi) * np.exp(-t**2 / 2)\n",
    "F = lambda t: np.exp(-t**2/2) / np.sqrt(2*np.pi)\n",
    "der = lambda t: np.exp(-t**2/2 * t) / np.sqrt(2*np.pi)\n",
    "\n",
    "trapez = lambda x: metoda_trapezow_zlozona(f,0,x,100) - 0.45\n",
    "simpson = lambda x: metoda_simpsona_zlozona(f,0,x,100) - 0.45\n",
    "p = 10e-05\n",
    "\n",
    "rozwiazanie_trapez = optimize.newton(trapez,0.5,tol=p)\n",
    "rozwiazanie_simpson = optimize.newton(simpson,0.5,tol=p)\n",
    "\n",
    "print(\"Rozwiazanie otrzymane przy pomocy metody trapezow:\" ,str(rozwiazanie_trapez))\n",
    "print(\"Rozwiazanie otrzymane przy pomocy metody Simpsona:\" ,str(rozwiazanie_simpson))\n",
    "print(\"Wartosc referencyjna:\",str(norm.ppf(norm.cdf(0) + 0.45)))\n"
   ]
  },
  {
   "cell_type": "markdown",
   "metadata": {},
   "source": [
    "Zadanie 3:"
   ]
  },
  {
   "cell_type": "code",
   "execution_count": 3,
   "metadata": {},
   "outputs": [
    {
     "name": "stdout",
     "output_type": "stream",
     "text": [
      "Droga hamowania pojazdu: 6.851361223111117 m\n",
      "Średnia prędkość pojazdu w przedziale t=[0,0.5]s:  5.473880000000001 m/s\n"
     ]
    }
   ],
   "source": [
    "import scipy.interpolate\n",
    "import matplotlib.pyplot as plt\n",
    "\n",
    "czas = [0, 0.5, 1.0, 2.0, 3.0, 4.0]\n",
    "przyspieszenie = [-4.5, -4.5, -2.3, -1.0, -0.5, 0.0]\n",
    "\n",
    "funkcja_przysp = scipy.interpolate.interp1d(czas, przyspieszenie)\n",
    "funkcja_predk = lambda x: metoda_simpsona_zlozona(funkcja_przysp, 0, x, 10) - metoda_simpsona_zlozona(funkcja_przysp, 0, 4, 100)\n",
    "funkcja_drogi = lambda x: metoda_simpsona_zlozona(funkcja_predk, 0, x, 100)\n",
    "\n",
    "print(\"Droga hamowania pojazdu:\", str(funkcja_drogi(4)), \"m\")\n",
    "print(\"Średnia prędkość pojazdu w przedziale t=[0,0.5]s: \", str(funkcja_drogi(0.5) / 0.5), \"m/s\") #v = s/t"
   ]
  },
  {
   "cell_type": "markdown",
   "metadata": {},
   "source": [
    "Zadanie 4:"
   ]
  },
  {
   "cell_type": "code",
   "execution_count": 4,
   "metadata": {},
   "outputs": [
    {
     "name": "stdout",
     "output_type": "stream",
     "text": [
      "Metoda trapezow: 11.063484780895644\n",
      "Metoda Simpsona: 11.063484780895648\n",
      "Metoda Romberga: 15.825159885482952\n"
     ]
    },
    {
     "data": {
      "image/png": "[encoded data removed]",
      "text/plain": [
       "<Figure size 1152x720 with 1 Axes>"
      ]
     },
     "metadata": {
      "needs_background": "light"
     },
     "output_type": "display_data"
    }
   ],
   "source": [
    "A = 0.1 #m\n",
    "T = 0.2 #m\n",
    "l = 4.8 #m\n",
    "\n",
    "#wzor na dlugosc krzywej,\n",
    "#użyty w nim wzór pochodnej funkcji podanej w zadaniu wyznaczono w Wolframie Alpha\n",
    "f = lambda x: np.sqrt(1 + np.power(2 * np.pi * A * np.cos(2*np.pi*x/T)/T, 2))\n",
    "\n",
    "print(\"Metoda trapezow:\", metoda_trapezow_zlozona(f,0,l,100))\n",
    "print(\"Metoda Simpsona:\", metoda_simpsona_zlozona(f,0,l,100))\n",
    "print(\"Metoda Romberga:\", integrate.romberg(f,0,l))\n",
    "\n",
    "x = np.linspace(1,100,100)\n",
    "plt.figure(figsize=(16,10))\n",
    "plt.scatter(x, [metoda_trapezow_zlozona(f,0,l,n) for n in range (1, 101)], marker='x')\n",
    "plt.scatter(x, [metoda_simpsona_zlozona(f,0,l,n) for n in range (1, 101)], marker='+')\n",
    "plt.legend(['Metoda trapezów', 'Metoda Simpsona'])\n",
    "plt.xlabel(\"Ilosc przedziałów\")\n",
    "plt.ylabel(\"Uzyskana wartosc\")\n",
    "plt.show()"
   ]
  },
  {
   "cell_type": "markdown",
   "metadata": {},
   "source": [
    "Jak widać na wykresie, wraz ze wzrostem przedziałów, wartości obu funkcji dążą do wartości ~11. <br>\n",
    "Widoczne są także skoki wartości dla obu funkcji, które są coraz rzadsze wraz ze wzrostem ilości przedziałów <br>\n",
    "Za pomocą metody Romberga wyznaczono wartość ~15.8, dla szczególnych ilości przedziałów również metoda trapezów oraz Simpsona wskazują podobną wartość. <br>\n",
    "Rozbieżność wyników dla różnych metod może powodować kształt funkcji f."
   ]
  }
 ],
 "metadata": {
  "kernelspec": {
   "display_name": "Python 3",
   "language": "python",
   "name": "python3"
  },
  "language_info": {
   "codemirror_mode": {
    "name": "ipython",
    "version": 3
   },
   "file_extension": ".py",
   "mimetype": "text/x-python",
   "name": "python",
   "nbconvert_exporter": "python",
   "pygments_lexer": "ipython3",
   "version": "3.7.0"
  }
 },
 "nbformat": 4,
 "nbformat_minor": 2
}
