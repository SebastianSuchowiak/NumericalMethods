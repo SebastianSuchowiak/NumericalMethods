{
 "cells": [
  {
   "cell_type": "markdown",
   "metadata": {
    "slideshow": {
     "slide_type": "notes"
    }
   },
   "source": [
    "# <center>Laboratorium 1<br>Metod Numerycznych</center>"
   ]
  },
  {
   "cell_type": "markdown",
   "metadata": {
    "slideshow": {
     "slide_type": "notes"
    }
   },
   "source": [
    "Instrukcja:\n",
    "Na zajęciach wszystkie zadania wykonywać należy przy użyciu edytora [Spyder](https://www.spyder-ide.org/), sprawozdanie należy wykonać w środowisku [Jupyter Notebook](https://jupyter-notebook.readthedocs.io/en/stable/)"
   ]
  },
  {
   "cell_type": "markdown",
   "metadata": {
    "slideshow": {
     "slide_type": "notes"
    }
   },
   "source": [
    "<a id='zad1'></a>\n",
    "***Zadanie 1.***   \n",
    "Oblicz wyrażenia:\n",
    "  \n",
    "$k = 1240\\cdot\\sqrt{7}$  \n",
    "$m = 4467$  \n",
    "$l = 2j$  \n",
    "$d = k+m$  \n",
    "$c = d+l$  \n",
    "  \n",
    "Po wykonaniu obliczeń sprawdź typy danych utworzonych zmiennych w *Variable explorer*. \n",
    "  \n",
    "***Wskazówka:*** Do wykonania zawansowanych funkcji w języku Python należy używać bibliotek/pakietów. Dla przykładu: jeżeli chcemy skorzystać z funkcji pierwiastkowania musimy zaimportować pakiet *[math](https://docs.python.org/3/library/math.html)*:"
   ]
  },
  {
   "cell_type": "code",
   "execution_count": 8,
   "metadata": {},
   "outputs": [
    {
     "data": {
      "text/plain": [
       "3.1622776601683795"
      ]
     },
     "execution_count": 8,
     "metadata": {},
     "output_type": "execute_result"
    }
   ],
   "source": [
    "import math\n",
    "math.sqrt(10)"
   ]
  },
  {
   "cell_type": "markdown",
   "metadata": {},
   "source": [
    "lub możemy zaimportować jedynie funkcję:"
   ]
  },
  {
   "cell_type": "code",
   "execution_count": 2,
   "metadata": {},
   "outputs": [
    {
     "data": {
      "text/plain": [
       "3.1622776601683795"
      ]
     },
     "execution_count": 2,
     "metadata": {},
     "output_type": "execute_result"
    }
   ],
   "source": [
    "from math import sqrt \n",
    "sqrt(10)"
   ]
  },
  {
   "cell_type": "markdown",
   "metadata": {},
   "source": [
    "***Zadanie 2.***  \n",
    "Przy pomocy instrukcji *[print](https://docs.python.org/3/tutorial/inputoutput.html)* wyświetl wynik zmiennej $d$ z [zadania 1](#zad1) z dokładnością domyślną, do trzech miejsc po przecinku oraz do dwudziestu miejsc po przecinku."
   ]
  },
  {
   "cell_type": "markdown",
   "metadata": {},
   "source": [
    "***Zadanie 3.***  \n",
    "Używając Pythona oblicz pole powierzchni $S$ walca o promieniu podstawy $r = 17$ i wysokości $h = 33$. Stała $\\pi$ jest zdefiniowana w bibliotece *[math](https://docs.python.org/3/library/math.html#constants)*."
   ]
  },
  {
   "cell_type": "markdown",
   "metadata": {},
   "source": [
    "***Zadanie 4.***  \n",
    "Dla przejrzystości prowadzonych prac dodaj do skryptu komentarze opisujące kod. W Pythonie komentarze wielolinijkowe dodajemy:"
   ]
  },
  {
   "cell_type": "code",
   "execution_count": 3,
   "metadata": {},
   "outputs": [
    {
     "data": {
      "text/plain": [
       "'\\nTutaj kometarz\\n'"
      ]
     },
     "execution_count": 3,
     "metadata": {},
     "output_type": "execute_result"
    }
   ],
   "source": [
    "\"\"\"\n",
    "Tutaj kometarz\n",
    "\"\"\""
   ]
  },
  {
   "cell_type": "markdown",
   "metadata": {},
   "source": [
    "lub jedno liniowe:"
   ]
  },
  {
   "cell_type": "code",
   "execution_count": 4,
   "metadata": {},
   "outputs": [],
   "source": [
    "# Tutaj komentarz"
   ]
  },
  {
   "cell_type": "markdown",
   "metadata": {},
   "source": [
    "***Zadanie 5.***  \n",
    "Dla dowolnych zmiennych $x_{1},t,r$ oblicz wartość wyrażenia:\n",
    "  \n",
    "$B = \\cfrac{x_{1}+r}{r\\cdot\\sin(2\\cdot x_{1})+3.3456}\\cdot x_{1}^{t\\cdot r}$,  \n",
    "  \n",
    "Wypisz wynik używając funkcji *print*. "
   ]
  },
  {
   "cell_type": "markdown",
   "metadata": {},
   "source": [
    "***Zadanie 6.***  \n",
    "Zadeklaruj macierz:  \n",
    "  \n",
    "$\\mathbf{M} =\\left[ \\begin{matrix}\n",
    "a & 1 & -a\\\\\n",
    "0 & 1 & 1\\\\\n",
    "-a & a & 1\n",
    "\\end{matrix}\\right]\n",
    "$    \n",
    "  \n",
    "dla $a = \\sqrt{2}$.  \n",
    "   \n",
    "Dla zadeklarowanej macierzy wyznacz numerycznie macierz odwrotną $\\mathbf{M}^{-1}$, macierz transponowaną $\\mathbf{M}^{\\textrm{T}}$ i wyznacznik macierzy $\\mathbf{M}$. Wypisz otrzymane wyniki. \n",
    "  \n",
    "***Wskazówki:*** Do tworzenia obiektów mających własności macierzy w języku Python używa się klasy *[array](https://docs.scipy.org/doc/numpy-1.15.1/reference/generated/numpy.array.html)* z pakietu *[numpy](http://www.numpy.org/)*. Przykładowe użycie:"
   ]
  },
  {
   "cell_type": "code",
   "execution_count": 2,
   "metadata": {
    "scrolled": true
   },
   "outputs": [
    {
     "name": "stdout",
     "output_type": "stream",
     "text": [
      "Wektor poziomy:\n",
      " [1 2 3]\n",
      "Wektor pionowy:\n",
      " [[1]\n",
      " [2]\n",
      " [3]]\n",
      "Macierz:\n",
      " [[1 2]\n",
      " [3 4]]\n"
     ]
    }
   ],
   "source": [
    "import numpy as np # słowo kluczowe \"as\" oznacza przesłania nazwę numpy i pozwala nadać jej alias\n",
    "a = np.array([1, 2, 3])\n",
    "b = np.array([[1], [2], [3]])\n",
    "A = np.array([[1,2],[3,4]])\n",
    "print(\"Wektor poziomy:\\n {0}\".format(a))\n",
    "print(\"Wektor pionowy:\\n {0}\".format(b))\n",
    "print(\"Macierz:\\n {0}\".format(A))"
   ]
  },
  {
   "cell_type": "markdown",
   "metadata": {},
   "source": [
    "Do wykonania operacji odwracania macierzy należy użyć funkcji *[inv](https://docs.scipy.org/doc/numpy/reference/generated/numpy.linalg.inv.html)*, do obliczenia wyznacznika macierzy stosuje się funkcję *[det](https://docs.scipy.org/doc/numpy-1.15.0/reference/generated/numpy.linalg.det.html)*  z bliblioteki *[linalg](https://docs.scipy.org/doc/numpy/reference/routines.linalg.html)*. Natomiast transpozycję macierzy wykonujemy za pomocą funkcji *[transpose](https://docs.scipy.org/doc/numpy-1.14.0/reference/generated/numpy.transpose.html)* z pakietu *numpy*.  \n",
    "    \n",
    "*Ciekawostka:* Python natywnie nie zawiera struktury danych typu tablica; na poziomie języka jest to rozwiązane poprzez strukturę listy list do której elementów odwołuje się poprzez indeksy jak w C/C++."
   ]
  },
  {
   "cell_type": "markdown",
   "metadata": {},
   "source": [
    "***Zadanie 7.***  \n",
    "Wypisz przy pomocy funkcji *print* następujące elementy macierzy $\\mathbf{M}$: $\\mathbf{M}_{1,1},\\mathbf{M}_{3,3},\\mathbf{M}_{3,2}$. Zdefiniuj wektor $\\mathbf{w1}$, równy trzeciej kolumnie macierzy $\\mathbf{M}$ oraz wektor $\\mathbf{w2}$, który składa się z elementów drugiego wiersza tej macierzy.  \n",
    "  \n",
    "***Wskazówki:***\n",
    "Tablice z pakietu *numpy* są indeksowane od zera, a do każdego elementu można odwołać się poprzez jego indeks. Przykład użycia: \n"
   ]
  },
  {
   "cell_type": "code",
   "execution_count": 6,
   "metadata": {},
   "outputs": [
    {
     "name": "stdout",
     "output_type": "stream",
     "text": [
      "Wylosowana tablica 4x4:\n",
      " [[0 5 6 9]\n",
      " [8 2 0 8]\n",
      " [0 4 9 6]\n",
      " [0 5 9 3]]\n",
      "Element 3x2: 4\n"
     ]
    }
   ],
   "source": [
    "# losowanie tablicy 4x4 do przykładu\n",
    "P = np.array([np.random.randint(0,10,4),np.random.randint(0,10,4),np.random.randint(0,10,4),np.random.randint(0,10,4)])\n",
    "print(\"Wylosowana tablica 4x4:\\n {0}\".format(P))\n",
    "print(\"Element 3x2: {0}\".format(P[2,1]))"
   ]
  },
  {
   "cell_type": "markdown",
   "metadata": {},
   "source": [
    "Dodatkowo twórcy biblioteki umożliwiają użytkownikowi manipulację elementami tablicy poprzez operator ':', więcej szczegółów na temat jego użycia w artykule [NumPy for Matlab users](https://docs.scipy.org/doc/numpy/user/numpy-for-matlab-users.html#numpy-for-matlab-users)."
   ]
  },
  {
   "cell_type": "code",
   "execution_count": 7,
   "metadata": {},
   "outputs": [
    {
     "name": "stdout",
     "output_type": "stream",
     "text": [
      "Elementy trzeciej kolumny:\n",
      " [6 0 9 9]\n",
      "Elementy trzeciego wiersza:\n",
      " [0 4 9 6]\n"
     ]
    }
   ],
   "source": [
    "# wyciągnięcie trzeciej kolumny \n",
    "wektor1 = P[:,2]\n",
    "# wyciągnięcie trzeciego wiersza \n",
    "wektor2 = P[2,:]\n",
    "print(\"Elementy trzeciej kolumny:\\n {0}\".format(wektor1))\n",
    "print(\"Elementy trzeciego wiersza:\\n {0}\".format(wektor2))"
   ]
  },
  {
   "cell_type": "markdown",
   "metadata": {},
   "source": [
    "***Zadanie 8.***  \n",
    "Przy użyciu funkcji *[roots](https://docs.scipy.org/doc/numpy/reference/generated/numpy.roots.html)* z pakietu *numpy* wyznacz numerycznie wszystkie pierwiastki wielomianu $W(x) = x^{5} − 7x^{4} + 3x^{3} + 43x^{2} − 28x − 60$. Sprawdź poprawność otrzymanych wyników."
   ]
  },
  {
   "cell_type": "markdown",
   "metadata": {},
   "source": [
    "***Zadanie 9.***  \n",
    "Wygeneruj dowolne ciągi arytmetyczne o kroku różnym od jeden i niebędącym liczbą całkowitą, używając w tym celu funkcji *[arange](https://docs.scipy.org/doc/numpy/reference/generated/numpy.arange.html)* oraz *[linspace](https://docs.scipy.org/doc/numpy-1.10.0/reference/generated/numpy.linspace.html)*. Przeanalizuj otrzymane rezultaty."
   ]
  },
  {
   "cell_type": "markdown",
   "metadata": {},
   "source": [
    "***Zadanie 10.***  \n",
    "Zdefiniuj funkcję $f(x)= x^{3} - 3x$ i sporządz jej wykres dla argumentów z przedziału:  \n",
    "1. $x\\in<-1,1>$  \n",
    "2. $x\\in<-5,5>$\n",
    "3. $x\\in<0,5>$\n",
    "  \n",
    "***Wskazówki***\n",
    "Deklarację [funkcji](https://www.w3schools.com/python/python_functions.asp) w Pythonie przeprowadza się w następujący sposób:"
   ]
  },
  {
   "cell_type": "code",
   "execution_count": 4,
   "metadata": {},
   "outputs": [],
   "source": [
    "def funkcja(x):\n",
    "    return x**2 - 3*(x-2) + 1"
   ]
  },
  {
   "cell_type": "markdown",
   "metadata": {},
   "source": [
    "lub dla prostych wyrażeń:"
   ]
  },
  {
   "cell_type": "code",
   "execution_count": 15,
   "metadata": {},
   "outputs": [],
   "source": [
    "funkcja2 = lambda x: x**2 - 3*(x-2) + 1"
   ]
  },
  {
   "cell_type": "markdown",
   "metadata": {},
   "source": [
    "W Pythonie bloki kodu (w tym również funkcje) są wyróżniane za pomocą wcięć. Do wizualizacji wyników w Pythonie używa się pakietu [Matplotlib](https://matplotlib.org/). Działanie tego pakietu prezentuje przykład:"
   ]
  },
  {
   "cell_type": "code",
   "execution_count": 5,
   "metadata": {
    "scrolled": false
   },
   "outputs": [
    {
     "data": {
      "image/png": "[encoded data removed]",
      "text/plain": [
       "<Figure size 432x288 with 1 Axes>"
      ]
     },
     "metadata": {
      "needs_background": "light"
     },
     "output_type": "display_data"
    }
   ],
   "source": [
    "import matplotlib.pyplot as plt\n",
    "x = np.linspace(-10,10)\n",
    "# inicjalizacja pustej listy\n",
    "y = []\n",
    "# pętla for\n",
    "for i in x:\n",
    "    # dodawanie wyników wykonania funkcji do listy\n",
    "    y.append(funkcja(i))\n",
    "# wprowadzenie danych do wykresu    \n",
    "plt.plot(x, y)\n",
    "plt.title('Wykres przykładowy 1')\n",
    "plt.xlabel('x')\n",
    "plt.ylabel('y')\n",
    "plt.legend('Wykres 1')\n",
    "plt.show()"
   ]
  },
  {
   "cell_type": "markdown",
   "metadata": {},
   "source": [
    "W języku Python generowanie struktur danych (list, zbiorów, słowników) przy użyciu pętli *for* można uprościć poprzez zastosowanie składni typu [inline] (https://blog.teamtreehouse.com/python-single-line-loops) (list comprehension). Przykład użycia takiej metody: "
   ]
  },
  {
   "cell_type": "code",
   "execution_count": null,
   "metadata": {},
   "outputs": [],
   "source": [
    "x = np.linspace(-10,10)\n",
    "# funkcja typu inline preferowana w Pythonie wykonująca zadanie for z poprzedniego przykładu \n",
    "y = [funkcja(i) for i in x]\n",
    "plt.plot(x, y)\n",
    "plt.show()"
   ]
  },
  {
   "cell_type": "markdown",
   "metadata": {},
   "source": [
    "Ostatnią możliwością jest wywołanie funkcji przy użyciu wektora, w następujący sposób:"
   ]
  },
  {
   "cell_type": "code",
   "execution_count": null,
   "metadata": {},
   "outputs": [],
   "source": [
    "x = np.linspace(-10,10) \n",
    "y = funkcja(x)\n",
    "plt.plot(x, y)\n",
    "plt.show()"
   ]
  },
  {
   "cell_type": "markdown",
   "metadata": {},
   "source": [
    "Wykorzystując dokumentację biblioteki [Matplotlib](https://matplotlib.org/) dodaj do wykresu etykiety osi, tytuły wykresów i legendę."
   ]
  },
  {
   "cell_type": "markdown",
   "metadata": {},
   "source": [
    "***Zadanie 11.***  \n",
    "Oblicz ilość ciepła, które wydzieli się podczas hamowania, jeżeli opisuje je zależność:  \n",
    "  \n",
    "$Q = \\cfrac{mv^2}{2}$  \n",
    "  \n",
    "jeżeli $m = 2500\\textrm{g}$, $v = 60\\textrm{km}/\\textrm{h}$, wypisz wynik w kilokaloriach i dżulach. Narysuj wykresy, które zobrazują zależność ilości ciepła wydzielonego w procesie hamowania od prędkości dla ciała o masie $3000 \\textrm{g}$ i prędkości $v\\in \\left<200,0\\right>\\textrm{km}/\\textrm{h}$, przedstawiając ciepło hamowania na pierwszym w skali liniowej i na drugim w skali logarytmicznej.\n",
    "\n",
    "***Wskazówka:*** Do wygenerowania wykresu z osią logarytmiczną skorzystaj z funkcji: [semilogy](https://matplotlib.org/api/_as_gen/matplotlib.pyplot.semilogy.html), [xlim](https://matplotlib.org/api/_as_gen/matplotlib.pyplot.xlim.html?highlight=xlim#matplotlib.pyplot.xlim) i [figure](https://matplotlib.org/api/_as_gen/matplotlib.pyplot.figure.html?highlight=figure#matplotlib.pyplot.figure) z pakietu *Matplotlib*. "
   ]
  },
  {
   "cell_type": "markdown",
   "metadata": {},
   "source": [
    "Materiały uzupełniające:\n",
    "- [Scipy Lecture Notes](http://www.scipy-lectures.org/index.html)\n",
    "- [NumPy for Matlab users](https://docs.scipy.org/doc/numpy/user/numpy-for-matlab-users.html#numpy-for-matlab-users)\n",
    "- [Python Tutorial - W3Schools](https://www.w3schools.com/python/default.asp)\n",
    "- [NumPy](https://www.numpy.org)\n",
    "- [Matplotlib](https://matplotlib.org/)\n",
    "- [Anaconda](https://www.anaconda.com/)\n",
    "- [Learn Python for Data Science](https://www.datacamp.com/learn-python-with-anaconda?utm_source=Anaconda_download&utm_campaign=datacamp_training&utm_medium=banner)\n",
    "- [Learn Python](https://www.learnpython.org/)\n",
    "- [Wujek Google](https://google.pl) i [Ciocia Wikipedia](https://pl.wikipedia.org/wiki/Wikipedia:Strona_g%C5%82%C3%B3wna)"
   ]
  },
  {
   "cell_type": "code",
   "execution_count": null,
   "metadata": {},
   "outputs": [],
   "source": []
  }
 ],
 "metadata": {
  "celltoolbar": "Raw Cell Format",
  "kernelspec": {
   "display_name": "Python 3",
   "language": "python",
   "name": "python3"
  },
  "language_info": {
   "codemirror_mode": {
    "name": "ipython",
    "version": 3
   },
   "file_extension": ".py",
   "mimetype": "text/x-python",
   "name": "python",
   "nbconvert_exporter": "python",
   "pygments_lexer": "ipython3",
   "version": "3.6.6"
  }
 },
 "nbformat": 4,
 "nbformat_minor": 2
}
