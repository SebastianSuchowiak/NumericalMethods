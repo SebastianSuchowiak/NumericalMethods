{
 "cells": [
  {
   "cell_type": "markdown",
   "metadata": {},
   "source": [
    "Zadanie 1."
   ]
  },
  {
   "cell_type": "code",
   "execution_count": 17,
   "metadata": {},
   "outputs": [
    {
     "data": {
      "image/png": "[encoded data removed]",
      "text/plain": [
       "<Figure size 432x288 with 1 Axes>"
      ]
     },
     "metadata": {
      "needs_background": "light"
     },
     "output_type": "display_data"
    },
    {
     "name": "stdout",
     "output_type": "stream",
     "text": [
      "-0.38212055882855767\n",
      "1.299787068367864\n"
     ]
    }
   ],
   "source": [
    "import numpy as np\n",
    "import matplotlib.pyplot as plt\n",
    "import time\n",
    "import scipy.optimize as so\n",
    "\n",
    "\n",
    "f = lambda x: np.e**(-2*x) + x**2 - 1\n",
    "df = lambda x: -2*np.e**(-2*x) + 2*x\n",
    "d2f = lambda x: 4*np.e**(-2*x) + 2\n",
    "\n",
    "x = np.linspace(-1,3)\n",
    "\n",
    "plt.plot(x, f(x))\n",
    "plt.plot(x, df(x))\n",
    "plt.plot(x, d2f(x))\n",
    "\n",
    "plt.ylabel('y')\n",
    "plt.xlabel('x')\n",
    "plt.legend(['f(x)', 'f\\'(x)', 'f\\'\\'(x)'])\n",
    "plt.rcParams[\"figure.figsize\"] = [15, 15]\n",
    "\n",
    "plt.grid(True)\n",
    "plt.show()\n",
    "\n",
    "print(f(0.5))\n",
    "print(f(1.5))"
   ]
  },
  {
   "cell_type": "markdown",
   "metadata": {},
   "source": [
    "Zadanie 2\n",
    "Warunki:\n",
    "1. Funkcja musi być ciągła\n",
    "2. function(start) i function(end) muszą mieć różne znaki"
   ]
  },
  {
   "cell_type": "code",
   "execution_count": 95,
   "metadata": {},
   "outputs": [],
   "source": [
    "import pandas as pd\n",
    "import numpy as np\n",
    "\n",
    "\n",
    "methods_list = []\n",
    "time_string = \"Funtion {0} was exacuted in {1:.7f} seconds and x_0 was estimated as {2:.7f}\""
   ]
  },
  {
   "cell_type": "code",
   "execution_count": 96,
   "metadata": {},
   "outputs": [
    {
     "name": "stdout",
     "output_type": "stream",
     "text": [
      "Funtion mybisection was exacuted in 0.0002980 seconds and x_0 was estimated as 0.9165626\n",
      "Funtion scipybisection was exacuted in 0.0002055 seconds and x_0 was estimated as 0.9165626\n"
     ]
    }
   ],
   "source": [
    "def bisection(function, start, end, stop, max_iter):\n",
    "    i = 0\n",
    "    mid = start\n",
    "    while abs(function(mid)) > stop != 0 and i < max_iter:\n",
    "        mid = (start + end) / 2\n",
    "        if function(mid) * function(start) < 0:\n",
    "            end = mid\n",
    "        else:\n",
    "            start = mid\n",
    "        i += 1\n",
    "        \n",
    "    if i >= max_iter and not(abs(mid) < stop):\n",
    "        raise RuntimeError(\"Failed to to coverage\")    \n",
    "        \n",
    "    return (mid, i)\n",
    "\n",
    "start = time.time()\n",
    "my_bi = bisection(f, 0.5, 2, 10**(-10), 10000)\n",
    "time_my_bi = time.time() - start\n",
    "\n",
    "start = time.time()\n",
    "sci_bi = so.bisect(f, 0.5, 2, xtol=10**(-10))\n",
    "time_sci_bi = time.time() - start\n",
    "\n",
    "methods_list.append(('my_bi', my_bi[0], time_my_bi, my_bi[1]))\n",
    "methods_list.append(('sci_bi', sci_bi, time_sci_bi, np.nan))\n",
    "\n",
    "print(time_string.format(\"mybisection\", time_my_bi, my_bi[0]))\n",
    "print(time_string.format(\"scipybisection\", time_sci_bi, sci_bi))"
   ]
  },
  {
   "cell_type": "markdown",
   "metadata": {},
   "source": [
    "Zadanie 3.\n",
    "Warunki:\n",
    "1. Funkcja musi być ciągła\n",
    "2. Pierwsza pochodna funkcji w przedziale poszukiwań musi być różna od 0"
   ]
  },
  {
   "cell_type": "code",
   "execution_count": 97,
   "metadata": {},
   "outputs": [
    {
     "name": "stdout",
     "output_type": "stream",
     "text": [
      "Funtion my_newton was exacuted in 0.0001633 seconds and x_0 was estimated as 0.9165626\n",
      "Funtion sci_newton was exacuted in 0.0001626 seconds and x_0 was estimated as 0.9165626\n"
     ]
    }
   ],
   "source": [
    "def newton(function, derivative, x_0, stop, max_iter):\n",
    "    x_1 = x_0 - 1\n",
    "    f_0 = function(x_0)\n",
    "    i = 0\n",
    "    while i < max_iter and abs(f_0) > stop:\n",
    "        f_1 = derivative(x_0)\n",
    "        if abs(f_1) < stop:\n",
    "            raise ValueError(\"Bad starting point\")\n",
    "        x_1 = x_0\n",
    "        x_0 = x_0 - f_0/f_1\n",
    "        f_0 = function(x_0)\n",
    "        i += 1\n",
    "        \n",
    "    if i >= max_iter and not(abs(f_0) < stop):\n",
    "        raise RuntimeError(\"Failed to to coverage\")    \n",
    "        \n",
    "    return [x_0, i]\n",
    "\n",
    "start = time.time()\n",
    "my_new = newton(f, df, 2, 10**(-10), 10000)\n",
    "time_my_new = time.time() - start\n",
    "\n",
    "start = time.time()\n",
    "sci_new = so.newton(f, 0.5, fprime=df, tol=10**(-10))\n",
    "time_sci_new = time.time() - start\n",
    "\n",
    "methods_list.append(('my_new', my_new[0], time_my_new, my_new[1]))\n",
    "methods_list.append(('sci_new', sci_new, time_sci_new, np.nan))\n",
    "\n",
    "print(time_string.format(\"my_newton\", time_my_new, my_new[0]))\n",
    "print(time_string.format(\"sci_newton\", time_sci_new, sci_new))"
   ]
  },
  {
   "cell_type": "markdown",
   "metadata": {},
   "source": [
    "Zadania 4.\n",
    "Warunki:\n",
    "1. Funkcja musi być ciągła"
   ]
  },
  {
   "cell_type": "code",
   "execution_count": 98,
   "metadata": {},
   "outputs": [
    {
     "name": "stdout",
     "output_type": "stream",
     "text": [
      "Funtion my_secant was exacuted in 0.0001338 seconds and x_0 was estimated as 0.9165626\n",
      "Funtion sci_secant was exacuted in 0.0001278 seconds and x_0 was estimated as 0.9165626\n"
     ]
    }
   ],
   "source": [
    "def secant(function, x_1, stop, max_iter):\n",
    "    f_1 = function(x_1)\n",
    "    x_2 = x_1 + 1\n",
    "    f_2 = function(x_2)\n",
    "    i = 0\n",
    "    while stop and i < max_iter:\n",
    "        x_0 = x_1 - f_1*(x_1-x_2)/(f_1-f_2)\n",
    "        f_0 = function(x_0)\n",
    "        if abs(f_0) < stop:\n",
    "            break\n",
    "        x_2 = x_1\n",
    "        f_2 = f_1\n",
    "        x_1 = x_0\n",
    "        f_1 = f_0\n",
    "        i += 1\n",
    "     \n",
    "    if i >= max_iter and not(abs(f_0) < stop):\n",
    "        raise RuntimeError(\"Failed to to coverage\")\n",
    "        \n",
    "    return [x_0, i]\n",
    "\n",
    "start = time.time()\n",
    "my_sec = secant(f, 0.5, 10**(-10), 10000)\n",
    "time_my_sec = time.time() - start\n",
    "\n",
    "start = time.time()\n",
    "sci_sec = so.newton(f, 0.5, tol=10**(-10))\n",
    "time_sci_sec = time.time() - start\n",
    "\n",
    "methods_list.append(('my_sec', my_sec[0], time_my_sec, my_sec[1]))\n",
    "methods_list.append(('sci_sec', sci_sec, time_sci_sec, np.nan))\n",
    "\n",
    "print(time_string.format(\"my_secant\", time_my_sec, my_sec[0]))\n",
    "print(time_string.format(\"sci_secant\", time_sci_sec, sci))\n",
    "        "
   ]
  },
  {
   "cell_type": "markdown",
   "metadata": {},
   "source": [
    "Porównanie wszystkich metod"
   ]
  },
  {
   "cell_type": "code",
   "execution_count": 99,
   "metadata": {},
   "outputs": [
    {
     "name": "stdout",
     "output_type": "stream",
     "text": [
      "      Name       x_0  Execution_time  Iterations\n",
      "5  sci_sec  0.916563        0.000128         NaN\n",
      "4   my_sec  0.916563        0.000134         6.0\n",
      "3  sci_new  0.916563        0.000163         NaN\n",
      "2   my_new  0.916563        0.000163         5.0\n",
      "1   sci_bi  0.916563        0.000206         NaN\n",
      "0    my_bi  0.916563        0.000298        33.0\n"
     ]
    }
   ],
   "source": [
    "methods = pd.DataFrame(methods_list, columns=['Name', 'x_0', 'Execution_time', 'Iterations'])\n",
    "print(methods.sort_values(['Execution_time']))"
   ]
  },
  {
   "cell_type": "code",
   "execution_count": null,
   "metadata": {},
   "outputs": [],
   "source": []
  }
 ],
 "metadata": {
  "kernelspec": {
   "display_name": "Python 3",
   "language": "python",
   "name": "python3"
  },
  "language_info": {
   "codemirror_mode": {
    "name": "ipython",
    "version": 3
   },
   "file_extension": ".py",
   "mimetype": "text/x-python",
   "name": "python",
   "nbconvert_exporter": "python",
   "pygments_lexer": "ipython3",
   "version": "3.6.6"
  }
 },
 "nbformat": 4,
 "nbformat_minor": 2
}
